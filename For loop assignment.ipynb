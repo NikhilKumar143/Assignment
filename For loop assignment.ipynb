{
 "cells": [
  {
   "cell_type": "markdown",
   "id": "2d313d9e-5a3f-46f5-8ef8-cfe7f2f82e52",
   "metadata": {},
   "source": [
    "Q1. Explain with an example each when to use a for loop and a while loop."
   ]
  },
  {
   "cell_type": "markdown",
   "id": "a5ecb5c6-6273-4d9d-8241-02d8d9b5e772",
   "metadata": {},
   "source": [
    "A for loop is generally used when we want to execute a block of code a fixed number of times or iterate over a sequence of elements such as a list, tuple, string, or dictionary"
   ]
  },
  {
   "cell_type": "code",
   "execution_count": 1,
   "id": "e5e956df-e084-4809-aff3-5a792572ddd0",
   "metadata": {},
   "outputs": [
    {
     "name": "stdout",
     "output_type": "stream",
     "text": [
      "apple\n",
      "banana\n",
      "cherry\n"
     ]
    }
   ],
   "source": [
    "fruits = [\"apple\", \"banana\", \"cherry\"]\n",
    "for fruit in fruits:\n",
    "    print(fruit)"
   ]
  },
  {
   "cell_type": "markdown",
   "id": "aefef2ae-6931-4f12-9bf4-8edecad57a29",
   "metadata": {},
   "source": [
    "A while loop, on the other hand, is generally used when we want to execute a block of code repeatedly until a certain condition is met"
   ]
  },
  {
   "cell_type": "code",
   "execution_count": 2,
   "id": "daf669fb-2cbd-4ff7-948d-ceb73c9ac5d4",
   "metadata": {},
   "outputs": [
    {
     "name": "stdout",
     "output_type": "stream",
     "text": [
      "apple\n",
      "banana\n"
     ]
    }
   ],
   "source": [
    "fruits = [\"apple\", \"banana\", \"cherry\"]\n",
    "i = 0\n",
    "while i < len(fruits):\n",
    "    print(fruits[i])\n",
    "    i += 1\n",
    "    if i == 2:\n",
    "        break"
   ]
  },
  {
   "cell_type": "markdown",
   "id": "0a269058-72bc-454a-862d-479bf02dff16",
   "metadata": {},
   "source": [
    "Q2 .Write a python program to print the sum and product of the first 10 natural numbers using for\n",
    "and while loop."
   ]
  },
  {
   "cell_type": "code",
   "execution_count": 3,
   "id": "ad743014-786e-4dd4-a15f-e24e993d8226",
   "metadata": {},
   "outputs": [
    {
     "name": "stdout",
     "output_type": "stream",
     "text": [
      "Sum of the first 10 natural numbers: 55\n",
      "Product of the first 10 natural numbers: 3628800\n"
     ]
    }
   ],
   "source": [
    "# calculate sum and product using for loop\n",
    "numbers = range(1, 11)\n",
    "\n",
    "# calculate sum using for loop\n",
    "sum = 0\n",
    "for num in numbers:\n",
    "    sum += num\n",
    "\n",
    "# calculate product using for loop\n",
    "product = 1\n",
    "for num in numbers:\n",
    "    product *= num\n",
    "\n",
    "# print the results\n",
    "print(\"Sum of the first 10 natural numbers:\", sum)\n",
    "print(\"Product of the first 10 natural numbers:\", product)\n"
   ]
  },
  {
   "cell_type": "markdown",
   "id": "8b9a7532-75d6-4289-b725-2386e554cd88",
   "metadata": {},
   "source": [
    "Q3 . Create a python program to compute the electricity bill for a household.\n",
    "The per-unit charges in rupees are as follows: For the first 100 units, the user will be charged Rs. 4.5 per\n",
    "unit, for the next 100 units, the user will be charged Rs. 6 per unit, and for the next 100 units, the user will\n",
    "be charged Rs. 10 per unit, After 300 units and above the user will be charged Rs. 20 per unit.\n",
    "You are required to take the units of electricity consumed in a month from the user as input.\n",
    "Your program must pass this test case: when the unit of electricity consumed by the user in a month is\n",
    "310, the total electricity bill should be 2250."
   ]
  },
  {
   "cell_type": "code",
   "execution_count": 5,
   "id": "b457b316-3900-49a4-a80b-9bd2bb349d8d",
   "metadata": {},
   "outputs": [
    {
     "name": "stdin",
     "output_type": "stream",
     "text": [
      "Enter the units of electricity consumed in a month:  310\n"
     ]
    },
    {
     "name": "stdout",
     "output_type": "stream",
     "text": [
      "Total electricity bill: Rs. 2250.00\n"
     ]
    }
   ],
   "source": [
    "# Taking the units consumed from the user\n",
    "units = int(input(\"Enter the units of electricity consumed in a month: \"))\n",
    "\n",
    "# Initializing the bill amount\n",
    "bill = 0\n",
    "\n",
    "# Calculating the bill based on the number of units consumed\n",
    "if units <= 100:\n",
    "    bill = units * 4.5\n",
    "elif units <= 200:\n",
    "    bill = 100 * 4.5 + (units - 100) * 6\n",
    "elif units <= 300:\n",
    "    bill = 100 * 4.5 + 100 * 6 + (units - 200) * 10\n",
    "else:\n",
    "    bill = 100 * 4.5 + 100 * 6 + 100 * 10 + (units - 300) * 20\n",
    "\n",
    "# Printing the total bill amount\n",
    "print(\"Total electricity bill: Rs. {:.2f}\".format(bill))"
   ]
  },
  {
   "cell_type": "markdown",
   "id": "7c350cf7-e288-4524-9409-f25274326bb6",
   "metadata": {},
   "source": [
    "Q4. Create a list of numbers from 1 to 100. Use for loop and while loop to calculate the cube of each\n",
    "number and if the cube of that number is divisible by 4 or 5 then append that number in a list and print\n",
    "that list."
   ]
  },
  {
   "cell_type": "code",
   "execution_count": 6,
   "id": "49ced8e8-2756-40e6-b5f9-02dcf26c3031",
   "metadata": {},
   "outputs": [
    {
     "name": "stdout",
     "output_type": "stream",
     "text": [
      "[2, 4, 5, 6, 8, 10, 12, 14, 15, 16, 18, 20, 22, 24, 25, 26, 28, 30, 32, 34, 35, 36, 38, 40, 42, 44, 45, 46, 48, 50, 52, 54, 55, 56, 58, 60, 62, 64, 65, 66, 68, 70, 72, 74, 75, 76, 78, 80, 82, 84, 85, 86, 88, 90, 92, 94, 95, 96, 98, 100]\n",
      "[2, 4, 5, 6, 8, 10, 12, 14, 15, 16, 18, 20, 22, 24, 25, 26, 28, 30, 32, 34, 35, 36, 38, 40, 42, 44, 45, 46, 48, 50, 52, 54, 55, 56, 58, 60, 62, 64, 65, 66, 68, 70, 72, 74, 75, 76, 78, 80, 82, 84, 85, 86, 88, 90, 92, 94, 95, 96, 98, 100]\n"
     ]
    }
   ],
   "source": [
    "# Using for loop\n",
    "cubes = []\n",
    "for num in range(1, 101):\n",
    "    cube = num ** 3\n",
    "    if cube % 4 == 0 or cube % 5 == 0:\n",
    "        cubes.append(num)\n",
    "print(cubes)\n",
    "\n",
    "# Using while loop\n",
    "cubes = []\n",
    "num = 1\n",
    "while num <= 100:\n",
    "    cube = num ** 3\n",
    "    if cube % 4 == 0 or cube % 5 == 0:\n",
    "        cubes.append(num)\n",
    "    num += 1\n",
    "print(cubes)"
   ]
  },
  {
   "cell_type": "code",
   "execution_count": null,
   "id": "ad568196-dde5-4e7a-ba8b-c6ed63428abf",
   "metadata": {},
   "outputs": [],
   "source": []
  }
 ],
 "metadata": {
  "kernelspec": {
   "display_name": "Python 3 (ipykernel)",
   "language": "python",
   "name": "python3"
  },
  "language_info": {
   "codemirror_mode": {
    "name": "ipython",
    "version": 3
   },
   "file_extension": ".py",
   "mimetype": "text/x-python",
   "name": "python",
   "nbconvert_exporter": "python",
   "pygments_lexer": "ipython3",
   "version": "3.10.8"
  }
 },
 "nbformat": 4,
 "nbformat_minor": 5
}
