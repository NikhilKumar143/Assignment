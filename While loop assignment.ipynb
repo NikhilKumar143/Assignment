{
 "cells": [
  {
   "cell_type": "markdown",
   "id": "2f66e36e-cde2-47fc-b4fe-37353acc764b",
   "metadata": {},
   "source": [
    "Q1. Which keyword is used to create a function? Create a function to return a list of odd numbers in the\n",
    "range of 1 to 25."
   ]
  },
  {
   "cell_type": "code",
   "execution_count": 1,
   "id": "1d291374-cfef-43ba-a932-6b22b899adbf",
   "metadata": {},
   "outputs": [],
   "source": [
    "def get_odd_numbers():\n",
    "    # Initialize an empty list to store odd numbers\n",
    "    odd_numbers = []\n",
    "\n",
    "    # Loop through the range of 1 to 25\n",
    "    for num in range(1, 26):\n",
    "        # Check if the number is odd\n",
    "        if num % 2 != 0:\n",
    "            # Append the odd number to the list\n",
    "            odd_numbers.append(num)\n",
    "\n",
    "    # Return the list of odd numbers\n",
    "    return odd_numbers"
   ]
  },
  {
   "cell_type": "code",
   "execution_count": 2,
   "id": "e8ee8a59-eeb9-4783-9bbe-6ea62fb9d29b",
   "metadata": {},
   "outputs": [
    {
     "name": "stdout",
     "output_type": "stream",
     "text": [
      "[1, 3, 5, 7, 9, 11, 13, 15, 17, 19, 21, 23, 25]\n"
     ]
    }
   ],
   "source": [
    "# Call the function to get the list of odd numbers\n",
    "odd_numbers_list = get_odd_numbers()\n",
    "\n",
    "# Print the list of odd numbers\n",
    "print(odd_numbers_list)"
   ]
  },
  {
   "cell_type": "markdown",
   "id": "38dc0ba0-780b-4c73-9b26-3c0d20d9fe81",
   "metadata": {},
   "source": [
    "Q2. Why *args and **kwargs is used in some functions? Create a function each for *args and **kwargs\n",
    "to demonstrate their use."
   ]
  },
  {
   "cell_type": "markdown",
   "id": "2eac2349-088f-4780-a9f0-cc5ceb0c6c31",
   "metadata": {},
   "source": [
    "*args is used to pass a variable number of non-keyworded arguments to a function. It allows you to pass any number of positional arguments to a function. The arguments passed through *args are collected in a tuple."
   ]
  },
  {
   "cell_type": "code",
   "execution_count": 3,
   "id": "ee2253a1-f59f-4832-9340-cb8e32a8af39",
   "metadata": {},
   "outputs": [],
   "source": [
    "def sum_numbers(*args):\n",
    "    total = 0\n",
    "    for num in args:\n",
    "        total += num\n",
    "    return total"
   ]
  },
  {
   "cell_type": "code",
   "execution_count": 4,
   "id": "5d2b7dee-09a2-468e-a670-65fd16919131",
   "metadata": {},
   "outputs": [
    {
     "name": "stdout",
     "output_type": "stream",
     "text": [
      "10\n",
      "60\n"
     ]
    }
   ],
   "source": [
    "# Call the function with different numbers of arguments\n",
    "print(sum_numbers(1, 2, 3, 4))   # Output: 10\n",
    "print(sum_numbers(10, 20, 30))   # Output: 60"
   ]
  },
  {
   "cell_type": "markdown",
   "id": "46d0181d-fa93-42e6-a8ba-0928e3d5ef1f",
   "metadata": {},
   "source": [
    "**kwargs is used to pass a variable number of keyword arguments to a function. It allows you to pass any number of keyword arguments to a function. The arguments passed through **kwargs are collected in a dictionary."
   ]
  },
  {
   "cell_type": "code",
   "execution_count": 5,
   "id": "f85c3629-e9a8-49a1-b84b-0e734efb615b",
   "metadata": {},
   "outputs": [],
   "source": [
    "def print_kwargs(**kwargs):\n",
    "    for key, value in kwargs.items():\n",
    "        print(f\"{key} = {value}\")"
   ]
  },
  {
   "cell_type": "code",
   "execution_count": 6,
   "id": "39a78bd2-0b74-4d19-b368-41d083e49661",
   "metadata": {},
   "outputs": [
    {
     "name": "stdout",
     "output_type": "stream",
     "text": [
      "a = 1\n",
      "b = 2\n",
      "c = 3\n",
      "name = John\n",
      "age = 30\n"
     ]
    }
   ],
   "source": [
    "# Call the function with different keyword arguments\n",
    "print_kwargs(a=1, b=2, c=3)      # Output: a = 1, b = 2, c = 3\n",
    "print_kwargs(name='John', age=30) # Output: name = John, age = 30"
   ]
  },
  {
   "cell_type": "markdown",
   "id": "596f1671-f00b-483d-85c5-89c4a3c67a19",
   "metadata": {},
   "source": [
    "Q3. What is an iterator in python? Name the method used to initialise the iterator object and the method\n",
    "used for iteration. Use these methods to print the first five elements of the given list [2, 4, 6, 8, 10, 12, 14,\n",
    "16, 18, 20]."
   ]
  },
  {
   "cell_type": "markdown",
   "id": "40b7a202-0ea6-4c93-bdba-1b36c82b771b",
   "metadata": {},
   "source": [
    "In Python, an iterator is an object that can be iterated upon, meaning that you can traverse through all the values. It can be implemented using a class which defines the methods __iter__() and __next__().\n",
    "\n",
    "The __iter__() method initializes the iterator and returns the iterator object, whereas the __next__() method returns the next value from the iterator. When there are no more items to return, __next__() raises the StopIteration exception.\n",
    "\n",
    "To initialize the iterator object, we can use the iter() method, and to iterate over the elements, we can use the next() method."
   ]
  },
  {
   "cell_type": "code",
   "execution_count": 7,
   "id": "cba9b6d9-db97-4fac-a6da-d4dc793a3952",
   "metadata": {},
   "outputs": [
    {
     "name": "stdout",
     "output_type": "stream",
     "text": [
      "2\n",
      "4\n",
      "6\n",
      "8\n",
      "10\n"
     ]
    }
   ],
   "source": [
    "# Define the list\n",
    "my_list = [2, 4, 6, 8, 10, 12, 14, 16, 18, 20]\n",
    "\n",
    "# Initialize the iterator object\n",
    "my_iter = iter(my_list)\n",
    "\n",
    "# Iterate over the elements using the next() method\n",
    "for i in range(5):\n",
    "    print(next(my_iter))"
   ]
  },
  {
   "cell_type": "markdown",
   "id": "c121410f-5a41-4456-a9b9-40aec1be43cc",
   "metadata": {},
   "source": [
    "Q4. What is a generator function in python? Why yield keyword is used? Give an example of a generator\n",
    "function."
   ]
  },
  {
   "cell_type": "markdown",
   "id": "287b3466-17c9-4956-9552-82e1d0fd2941",
   "metadata": {},
   "source": [
    "In Python, a generator function is a special type of function that generates a sequence of values using the yield keyword instead of returning a single value with the return keyword. The generator function can be used to generate a large sequence of values without storing them all in memory at once.\n",
    "\n",
    "\n",
    "\n",
    "The yield keyword is used to indicate that the function should return a value but not exit. The function will resume execution where it left off the next time it is called, remembering the state of the generator function, and generating the next value in the sequence."
   ]
  },
  {
   "cell_type": "code",
   "execution_count": 8,
   "id": "a738bbd0-1c2d-45c0-a8a1-d96300a5f7e0",
   "metadata": {},
   "outputs": [],
   "source": [
    "def even_numbers(limit):\n",
    "    i = 0\n",
    "    while i < limit:\n",
    "        yield i\n",
    "        i += 2"
   ]
  },
  {
   "cell_type": "code",
   "execution_count": 9,
   "id": "125b4f7c-0872-496d-af8e-74a1ce323252",
   "metadata": {},
   "outputs": [
    {
     "name": "stdout",
     "output_type": "stream",
     "text": [
      "0\n",
      "2\n",
      "4\n",
      "6\n",
      "8\n"
     ]
    }
   ],
   "source": [
    "for num in even_numbers(10):\n",
    "    print(num)"
   ]
  },
  {
   "cell_type": "markdown",
   "id": "81ccd8d0-d52a-4667-85f9-ab18c2184b19",
   "metadata": {},
   "source": [
    "Q5 .Create a generator function for prime numbers less than 1000. Use the next() method to print the\n",
    "first 20 prime numbers."
   ]
  },
  {
   "cell_type": "code",
   "execution_count": 10,
   "id": "89bd5b85-6396-4108-9135-d5c64134d14e",
   "metadata": {},
   "outputs": [
    {
     "name": "stdout",
     "output_type": "stream",
     "text": [
      "2\n",
      "3\n",
      "5\n",
      "7\n",
      "11\n",
      "13\n",
      "17\n",
      "19\n",
      "23\n",
      "29\n",
      "31\n",
      "37\n",
      "41\n",
      "43\n",
      "47\n",
      "53\n",
      "59\n",
      "61\n",
      "67\n",
      "71\n"
     ]
    }
   ],
   "source": [
    "def primes():\n",
    "    num = 2\n",
    "    while True:\n",
    "        for i in range(2, int(num ** 0.5) + 1):\n",
    "            if num % i == 0:\n",
    "                break\n",
    "        else:\n",
    "            yield num\n",
    "        num += 1\n",
    "\n",
    "prime_gen = primes()\n",
    "for i in range(20):\n",
    "    print(next(prime_gen))"
   ]
  },
  {
   "cell_type": "markdown",
   "id": "5a0c13a4-5242-4ff3-9ab5-c834b96d7e7c",
   "metadata": {},
   "source": [
    "Q6. Write a python program to print the first 10 Fibonacci numbers using a while loop."
   ]
  },
  {
   "cell_type": "code",
   "execution_count": 11,
   "id": "5d2cb3ef-665b-4034-a836-8a7dd3a1fb59",
   "metadata": {},
   "outputs": [
    {
     "name": "stdout",
     "output_type": "stream",
     "text": [
      "0\n",
      "1\n",
      "1\n",
      "2\n",
      "3\n",
      "5\n",
      "8\n",
      "13\n",
      "21\n",
      "34\n"
     ]
    }
   ],
   "source": [
    "# initialize variables\n",
    "a = 0\n",
    "b = 1\n",
    "count = 0\n",
    "\n",
    "# print the first two numbers\n",
    "print(a)\n",
    "print(b)\n",
    "\n",
    "# use a while loop to generate the next 8 numbers\n",
    "while count < 8:\n",
    "    # calculate the next number in the sequence\n",
    "    c = a + b\n",
    "    # print the next number\n",
    "    print(c)\n",
    "    # update variables for the next iteration\n",
    "    a = b\n",
    "    b = c\n",
    "    count += 1\n"
   ]
  },
  {
   "cell_type": "markdown",
   "id": "75434815-7528-4855-8390-7ffb7e0bbc2a",
   "metadata": {},
   "source": [
    "Q7. Write a List Comprehension to iterate through the given string: ‘pwskills’.\n",
    "Expected output: ['p', 'w', 's', 'k', 'i', 'l', 'l', 's']"
   ]
  },
  {
   "cell_type": "code",
   "execution_count": 12,
   "id": "0b328dd1-040e-4781-8ad4-56deafb91dcb",
   "metadata": {},
   "outputs": [
    {
     "name": "stdout",
     "output_type": "stream",
     "text": [
      "['p', 'w', 's', 'k', 'i', 'l', 'l', 's']\n"
     ]
    }
   ],
   "source": [
    "my_string = 'pwskills'\n",
    "output_list = [char for char in my_string if char in 'pwskills']\n",
    "print(output_list)\n"
   ]
  },
  {
   "cell_type": "markdown",
   "id": "4f1123fc-34c5-4f57-a0c3-15bf5ce296e2",
   "metadata": {},
   "source": [
    "Q8. Write a python program to check whether a given number is Palindrome or not using a while loop."
   ]
  },
  {
   "cell_type": "code",
   "execution_count": null,
   "id": "32fd4f9c-048d-4a6e-b474-32fd5fa7fff2",
   "metadata": {},
   "outputs": [],
   "source": []
  }
 ],
 "metadata": {
  "kernelspec": {
   "display_name": "Python 3 (ipykernel)",
   "language": "python",
   "name": "python3"
  },
  "language_info": {
   "codemirror_mode": {
    "name": "ipython",
    "version": 3
   },
   "file_extension": ".py",
   "mimetype": "text/x-python",
   "name": "python",
   "nbconvert_exporter": "python",
   "pygments_lexer": "ipython3",
   "version": "3.10.8"
  }
 },
 "nbformat": 4,
 "nbformat_minor": 5
}
