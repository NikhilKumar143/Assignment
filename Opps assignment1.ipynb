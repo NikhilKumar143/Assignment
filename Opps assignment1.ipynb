{
 "cells": [
  {
   "cell_type": "markdown",
   "id": "f3455a00-2c53-499f-9ee9-c16926a22aac",
   "metadata": {},
   "source": [
    "Q1 . Explain class and object with respect to object-oriented programming . give a sutable example ?"
   ]
  },
  {
   "cell_type": "markdown",
   "id": "b0d709ea-0cc5-445c-ae68-d4d157775ebd",
   "metadata": {},
   "source": [
    "Ans : a = 1 \n",
    "      print(type(a)) output is <class_int> it means a is a boject or variable or instance of class int (1)"
   ]
  },
  {
   "cell_type": "markdown",
   "id": "6794f345-2c4e-46c2-a96d-e3bac3fe5c93",
   "metadata": {},
   "source": [
    "Q2 . Name the four pillars of oops ? "
   ]
  },
  {
   "cell_type": "markdown",
   "id": "a659e9e6-81b8-48af-832d-217c0f33e861",
   "metadata": {},
   "source": [
    "Ans : Inheritance, Polymorphism, Encapsulation and Abstraction"
   ]
  },
  {
   "cell_type": "markdown",
   "id": "88e78389-3697-4b59-a8e1-dd80dd4b877d",
   "metadata": {},
   "source": [
    "Q3 . Explain why __int__() function is used . Give a sutable example ?"
   ]
  },
  {
   "cell_type": "markdown",
   "id": "3ec255ef-7021-4f65-aad2-41bbf0fa0b4d",
   "metadata": {},
   "source": [
    "Ans : __int__ is colled initialization , it takes or initialize value required data  inside the function .\n",
    "ex - def __init__(self ,student_phone_numger , student_id , student_email_id)"
   ]
  },
  {
   "cell_type": "markdown",
   "id": "851b8e53-8630-4778-906a-640a0a597de6",
   "metadata": {},
   "source": [
    "Q4 . Why self is used in oops ?"
   ]
  },
  {
   "cell_type": "markdown",
   "id": "a20a50c6-c79a-4265-992b-bf10165c5166",
   "metadata": {},
   "source": [
    "Ans : Self is used in oops as pointer or as referance to get initialize data for difrent difrent users."
   ]
  },
  {
   "cell_type": "markdown",
   "id": "b9248d9d-f0ee-423f-9048-381f21ce8a6b",
   "metadata": {},
   "source": [
    "Q5 . What is inheritance ? Give an example each type of inheritance "
   ]
  },
  {
   "cell_type": "markdown",
   "id": "ff070f19-bd3c-4023-a43a-04bbecd175fe",
   "metadata": {},
   "source": [
    "Ans : Inheritance is a process of obtaining properties and characteristics(variables and methods) of another class. In this hierarchical order, the class which inherits another class is called subclass or child class, and the other class is the parent class.\n",
    "\n",
    "Type : "
   ]
  }
 ],
 "metadata": {
  "kernelspec": {
   "display_name": "Python 3 (ipykernel)",
   "language": "python",
   "name": "python3"
  },
  "language_info": {
   "codemirror_mode": {
    "name": "ipython",
    "version": 3
   },
   "file_extension": ".py",
   "mimetype": "text/x-python",
   "name": "python",
   "nbconvert_exporter": "python",
   "pygments_lexer": "ipython3",
   "version": "3.10.8"
  }
 },
 "nbformat": 4,
 "nbformat_minor": 5
}
