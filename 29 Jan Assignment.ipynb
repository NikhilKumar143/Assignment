{
 "cells": [
  {
   "cell_type": "markdown",
   "id": "4080e923-d197-4c93-9098-51a61249aa80",
   "metadata": {},
   "source": [
    " Q1 . Who Devlop Python Programming Languge ?"
   ]
  },
  {
   "cell_type": "markdown",
   "id": "1d31cb92-28ac-436e-9424-12a5bdaa593c",
   "metadata": {},
   "source": [
    "Ans : Guido Van Russum"
   ]
  },
  {
   "cell_type": "markdown",
   "id": "8291d298-c914-4697-bd93-828ea74027e9",
   "metadata": {},
   "source": [
    "Q2. Which type of Programming does Python Support?"
   ]
  },
  {
   "cell_type": "markdown",
   "id": "1a7c24a4-22e4-48c2-9e2a-16595f460015",
   "metadata": {},
   "source": [
    "Ans : Object oriented Programming and Structure Programming"
   ]
  },
  {
   "cell_type": "markdown",
   "id": "54dde66c-739f-4f89-abb1-eec7ddf8449e",
   "metadata": {},
   "source": [
    "Q3 . is python case sensitive when dealing with identifiers?"
   ]
  },
  {
   "cell_type": "markdown",
   "id": "0684ef4c-fed7-4019-a5cd-86de239a7d0e",
   "metadata": {},
   "source": [
    "Ans : Yes , Python is case sesative"
   ]
  },
  {
   "cell_type": "markdown",
   "id": "3a1a460e-75ac-48a4-a043-6374c36c26a5",
   "metadata": {},
   "source": [
    "Q4 . what is the correct extension of python file?"
   ]
  },
  {
   "cell_type": "markdown",
   "id": "ea3e4ca4-1c0b-4ce3-8459-49dd1fdd14b7",
   "metadata": {},
   "source": [
    "Ans : .py"
   ]
  },
  {
   "cell_type": "markdown",
   "id": "89fdee28-a9a2-459e-b4c9-d535dc63d11a",
   "metadata": {},
   "source": [
    "Q5 . is python code compiled or interpreted ?"
   ]
  },
  {
   "cell_type": "markdown",
   "id": "9440ae81-e5fc-4c38-9da5-361e8c945651",
   "metadata": {},
   "source": [
    "Ans : Interpreted"
   ]
  },
  {
   "cell_type": "markdown",
   "id": "6c1bf73f-aabe-4d9e-b98b-eda797062644",
   "metadata": {},
   "source": [
    "Q6 . Name a few block of code use to define in python language ?"
   ]
  },
  {
   "cell_type": "markdown",
   "id": "e94b5932-00e9-469b-b66d-0d142cffbeb2",
   "metadata": {},
   "source": [
    "Ans : a module , a function body , a class difination"
   ]
  },
  {
   "cell_type": "markdown",
   "id": "017bcd5f-b163-4686-a097-ddc6df1f57cc",
   "metadata": {},
   "source": [
    "Q7 . State a character to used to give single-line comment in python ?"
   ]
  },
  {
   "cell_type": "markdown",
   "id": "ff61cf2a-5962-4c4e-83ea-0878034d11c5",
   "metadata": {},
   "source": [
    "Ans : # character"
   ]
  },
  {
   "cell_type": "markdown",
   "id": "e3c66a57-040d-49db-bc21-60856f663091",
   "metadata": {},
   "source": [
    "Q8 . Mention function which can helps us  to find the version of python that we are currently working on ?"
   ]
  },
  {
   "cell_type": "markdown",
   "id": "e5b6d872-7b00-48e2-b038-bd8ec0007130",
   "metadata": {},
   "source": [
    "Ans : \n",
    "from platform import python_version\n",
    "print(python_version())"
   ]
  },
  {
   "cell_type": "markdown",
   "id": "35cccd24-7abb-432f-b421-75ac26d94168",
   "metadata": {},
   "source": [
    "Q9 . Python support the creation of anonymous function at run time , using a construct colled ...?"
   ]
  },
  {
   "cell_type": "markdown",
   "id": "4882e94f-30f0-4ede-901b-17f34ce1ff51",
   "metadata": {},
   "source": [
    "Ans : Lambda()"
   ]
  },
  {
   "cell_type": "markdown",
   "id": "965c5146-2442-4d0d-b59f-6352650811bc",
   "metadata": {},
   "source": [
    "Q10 . What does Pip stands for Python ?"
   ]
  },
  {
   "cell_type": "markdown",
   "id": "de6d3ffa-c87c-4b14-9bc6-375304d88b49",
   "metadata": {},
   "source": [
    "Ans : Preferred Installer Programming"
   ]
  },
  {
   "cell_type": "markdown",
   "id": "2d7e4de3-c32b-43c5-ae60-54f8116045ef",
   "metadata": {},
   "source": [
    "Q11 . Mention a few build-in function in python ?"
   ]
  },
  {
   "cell_type": "markdown",
   "id": "82cb8c23-162d-4035-8a0e-01610d9537d9",
   "metadata": {},
   "source": [
    "Ans : print( ) function. type( ) function. input( ) function. abs( ) function. pow( ) function. dir( ) function. sorted( ) function. max( ) function."
   ]
  },
  {
   "cell_type": "markdown",
   "id": "60b39792-7f4e-4e9a-bb1c-e8fdb845ba7a",
   "metadata": {},
   "source": [
    "Q12 . What is the maximum possible length of an identifier in python ?"
   ]
  },
  {
   "cell_type": "markdown",
   "id": "13f6d066-0515-4efe-8af8-a43dd84a3c24",
   "metadata": {},
   "source": [
    "Ans : 79 characters"
   ]
  },
  {
   "cell_type": "markdown",
   "id": "cca5ef83-1fca-4ec6-a4ba-b14028d05e35",
   "metadata": {},
   "source": [
    "Q13 . What are the benifit of using python ?"
   ]
  },
  {
   "cell_type": "markdown",
   "id": "eeb067d4-0c16-4218-a461-09eda72aaa62",
   "metadata": {},
   "source": [
    "Ans : Data science. Scientific and mathematical computing. Web development. Finance and trading. System automation and administration. Computer graphics. Basic game development. Security and penetration testing."
   ]
  },
  {
   "cell_type": "markdown",
   "id": "f8c968a2-c8da-4c7e-8eb1-454028b3b66d",
   "metadata": {},
   "source": [
    "Q14 . How is the mempry manage in python ?"
   ]
  },
  {
   "cell_type": "markdown",
   "id": "154683f8-2075-41f3-895b-6994397b2dfc",
   "metadata": {},
   "source": [
    "Ans : Using Python memory manager"
   ]
  },
  {
   "cell_type": "markdown",
   "id": "5c5e4027-12a6-4c5d-a0f3-df0aa4c44dac",
   "metadata": {},
   "source": [
    "Q15 . How to install python in windows and set path variables ?"
   ]
  },
  {
   "cell_type": "markdown",
   "id": "3179c0ca-71c9-4c09-805f-aaa587954059",
   "metadata": {},
   "source": [
    "Ans :1> Right-clicking This PC and going to Properties.\n",
    "\n",
    "  2> Clicking on the Advanced system settings in the menu on the left.\n",
    "\n",
    "  3>  Clicking on the Environment Variables button o​n the bottom right.\n",
    "\n",
    "  4>  In the System variables section, selecting the Path variable and clicking on Edit. The next screen will show all the directories that are currently a part of the PATH variable.\n",
    "\n",
    "   5> Clicking on New and entering Python’s install directory."
   ]
  },
  {
   "cell_type": "markdown",
   "id": "af43dc16-e155-4098-99d7-a4e75aa0394f",
   "metadata": {},
   "source": [
    "Q16 . Is identation required in python ?"
   ]
  },
  {
   "cell_type": "code",
   "execution_count": null,
   "id": "54d365f0-b585-4371-b60b-941947387bf1",
   "metadata": {},
   "outputs": [],
   "source": []
  }
 ],
 "metadata": {
  "kernelspec": {
   "display_name": "Python 3 (ipykernel)",
   "language": "python",
   "name": "python3"
  },
  "language_info": {
   "codemirror_mode": {
    "name": "ipython",
    "version": 3
   },
   "file_extension": ".py",
   "mimetype": "text/x-python",
   "name": "python",
   "nbconvert_exporter": "python",
   "pygments_lexer": "ipython3",
   "version": "3.10.8"
  }
 },
 "nbformat": 4,
 "nbformat_minor": 5
}
