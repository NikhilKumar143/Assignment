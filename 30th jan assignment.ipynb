{
 "cells": [
  {
   "cell_type": "markdown",
   "id": "63a815af-983c-4c6a-a6fd-46e8fdd8899f",
   "metadata": {},
   "source": [
    "Q1 . Write the program to accept percentage from the user and display the grade acording to the following criteriya ? "
   ]
  },
  {
   "cell_type": "code",
   "execution_count": null,
   "id": "6cf0e2d3-5c0e-4bf3-b697-6592c60a1096",
   "metadata": {
    "tags": []
   },
   "outputs": [],
   "source": [
    "marks = int(input(\"Type Marks\"))\n",
    "if marks  >90:\n",
    "    print(\"A\")\n",
    "elif marks >80 and marks <= 90:\n",
    "    print(\"B\")\n",
    "elif marks >=60 and marks <=80:\n",
    "    print(\"C\")\n",
    "else:\n",
    "    print(\"D\")\n",
    "        "
   ]
  },
  {
   "cell_type": "markdown",
   "id": "5388f836-b030-4fbe-bc79-cce2955ec7e4",
   "metadata": {},
   "source": [
    "Q2 . Write a program to accept the cost price of a bike and display the road tax to be paid according to the following criteria ?  "
   ]
  },
  {
   "cell_type": "code",
   "execution_count": 33,
   "id": "2fb4587d-42cb-48fa-9ebc-76fc84c0a3f0",
   "metadata": {},
   "outputs": [
    {
     "name": "stdin",
     "output_type": "stream",
     "text": [
      "Enter Bike Amount 50000\n"
     ]
    },
    {
     "name": "stdout",
     "output_type": "stream",
     "text": [
      "5%\n"
     ]
    }
   ],
   "source": [
    "price = int(input(\"Enter Bike Amount\"))\n",
    "if price >100000:\n",
    "    print(\"15%\")\n",
    "elif price  >50000 and cost_price <=100000:\n",
    "    print(\"10%\")\n",
    "elif price  <= 50000:\n",
    "    print(\"5%\")\n",
    "    \n",
    "\n"
   ]
  },
  {
   "cell_type": "markdown",
   "id": "89c53af0-532a-4656-9d64-82b0988c206c",
   "metadata": {},
   "source": [
    "Q3 . Accept any city from the users and display Monument of the city ?"
   ]
  },
  {
   "cell_type": "code",
   "execution_count": 9,
   "id": "c5e50d51-a6ca-4348-a725-2915210c0570",
   "metadata": {},
   "outputs": [
    {
     "name": "stdin",
     "output_type": "stream",
     "text": [
      "Type city Aagra\n"
     ]
    },
    {
     "name": "stdout",
     "output_type": "stream",
     "text": [
      "Taj Mahal\n"
     ]
    }
   ],
   "source": [
    "city = input(\"Type city\")\n",
    "if city == \"Delhi\":\n",
    "    print(\"Red Fort\")\n",
    "elif city == \"Aagra\":\n",
    "    print(\"Taj Mahal\")\n",
    "elif city == \"Jaipur\":\n",
    "    print(\"Jal Mahal\")\n",
    "    "
   ]
  },
  {
   "cell_type": "markdown",
   "id": "914400ce-b441-4fc5-a7e1-7b8bdd63b828",
   "metadata": {},
   "source": [
    "Q4 . Check how many times given number can be divided by 3 before it is less than or equal to 10 ?"
   ]
  },
  {
   "cell_type": "code",
   "execution_count": 34,
   "id": "e77a358a-dbc8-4e58-8c2a-3fd0630d6220",
   "metadata": {},
   "outputs": [
    {
     "name": "stdin",
     "output_type": "stream",
     "text": [
      "Enter a number:  14\n"
     ]
    },
    {
     "name": "stdout",
     "output_type": "stream",
     "text": [
      "The number can be divided by 3 1 times before it is less than or equal to 10.\n"
     ]
    }
   ],
   "source": [
    "num = int(input(\"Enter a number: \"))\n",
    "count = 0\n",
    "\n",
    "while num > 10:\n",
    "    num = num / 3\n",
    "    count += 1\n",
    "\n",
    "print(\"The number can be divided by 3\", count, \"times before it is less than or equal to 10.\")"
   ]
  },
  {
   "cell_type": "markdown",
   "id": "9dce977b-d131-4ce0-9ce6-47b9ee6ae6e4",
   "metadata": {},
   "source": [
    "Q5 . check how many times given number can be divided by 3 before it is equal to and less than 10?"
   ]
  },
  {
   "cell_type": "code",
   "execution_count": 7,
   "id": "fb087898-6a63-4e4d-913e-a28d2b6861ad",
   "metadata": {},
   "outputs": [
    {
     "name": "stdout",
     "output_type": "stream",
     "text": [
      "2\n"
     ]
    }
   ],
   "source": [
    "num = 81  # replace with the number you want to check\n",
    "count = 0\n",
    "\n",
    "while num >= 10:\n",
    "    num = num / 3\n",
    "    count += 1\n",
    "\n",
    "print(count)"
   ]
  },
  {
   "cell_type": "markdown",
   "id": "35456a20-849a-433a-a3db-66ff0d2ac830",
   "metadata": {},
   "source": [
    "Q5 . why and when to use while loop in python give a detailed description with example ?"
   ]
  },
  {
   "cell_type": "markdown",
   "id": "0574e3c1-e9eb-409f-ad8e-d56c3f6bec20",
   "metadata": {},
   "source": [
    "A while loop in Python is used to repeatedly execute a block of code while a certain condition is true. The loop continues to run as long as the condition remains true. \n",
    "Once the condition becomes false, the loop terminates and the code execution continues from the next statement after the loop."
   ]
  },
  {
   "cell_type": "code",
   "execution_count": 10,
   "id": "c438df12-2c43-4039-ade3-1be3933d4a82",
   "metadata": {},
   "outputs": [
    {
     "name": "stdout",
     "output_type": "stream",
     "text": [
      "1\n",
      "2\n",
      "3\n",
      "4\n",
      "5\n"
     ]
    }
   ],
   "source": [
    "#EX:\n",
    "num = 1\n",
    "while num <= 5:\n",
    "    print(num)\n",
    "    num += 1"
   ]
  },
  {
   "cell_type": "markdown",
   "id": "c40d83e6-6639-4cf4-91da-443d23ff0c2c",
   "metadata": {},
   "source": [
    "Q6 .Use a nested while loop to print 3 different pattern  ?"
   ]
  },
  {
   "cell_type": "code",
   "execution_count": 11,
   "id": "1610c702-4533-46ad-b32f-48f7d642f08b",
   "metadata": {},
   "outputs": [
    {
     "name": "stdout",
     "output_type": "stream",
     "text": [
      "* * * * * \n",
      "* * * * * \n",
      "* * * * * \n",
      "* * * * * \n",
      "* * * * * \n"
     ]
    }
   ],
   "source": [
    "# Squre Pattern\n",
    "n = 5\n",
    "i = 0\n",
    "\n",
    "while i < n:\n",
    "    j = 0\n",
    "    while j < n:\n",
    "        print(\"*\", end=\" \")\n",
    "        j += 1\n",
    "    print()\n",
    "    i += 1"
   ]
  },
  {
   "cell_type": "code",
   "execution_count": 12,
   "id": "8c8a7d04-8dda-4cc3-aa74-57db5b3ebeea",
   "metadata": {},
   "outputs": [
    {
     "name": "stdout",
     "output_type": "stream",
     "text": [
      "* \n",
      "* * \n",
      "* * * \n",
      "* * * * \n",
      "* * * * * \n"
     ]
    }
   ],
   "source": [
    "# Tringle pattern\n",
    "n = 5\n",
    "i = 1\n",
    "\n",
    "while i <= n:\n",
    "    j = 1\n",
    "    while j <= i:\n",
    "        print(\"*\", end=\" \")\n",
    "        j += 1\n",
    "    print()\n",
    "    i += 1"
   ]
  },
  {
   "cell_type": "code",
   "execution_count": 13,
   "id": "01b64bc1-ae35-4aff-9167-2817c2426b68",
   "metadata": {},
   "outputs": [
    {
     "name": "stdout",
     "output_type": "stream",
     "text": [
      "    *\n",
      "   ***\n",
      "  *****\n",
      " *******\n",
      "*********\n",
      " *******\n",
      "  *****\n",
      "   ***\n",
      "    *\n"
     ]
    }
   ],
   "source": [
    "# Dimond pattern\n",
    "n = 5\n",
    "i = 1\n",
    "\n",
    "while i <= n:\n",
    "    j = 1\n",
    "    while j <= (n-i):\n",
    "        print(\" \", end=\"\")\n",
    "        j += 1\n",
    "    j = 1\n",
    "    while j <= (2*i-1):\n",
    "        print(\"*\", end=\"\")\n",
    "        j += 1\n",
    "    print()\n",
    "    i += 1\n",
    "\n",
    "i = n-1\n",
    "while i >= 1:\n",
    "    j = 1\n",
    "    while j <= (n-i):\n",
    "        print(\" \", end=\"\")\n",
    "        j += 1\n",
    "    j = 1\n",
    "    while j <= (2*i-1):\n",
    "        print(\"*\", end=\"\")\n",
    "        j += 1\n",
    "    print()\n",
    "    i -= 1"
   ]
  },
  {
   "cell_type": "markdown",
   "id": "ff268038-445a-4780-ac79-bf17fd9e99f7",
   "metadata": {},
   "source": [
    "Q7 . Reverce a while loop to display numbers from 10 to 1 ?"
   ]
  },
  {
   "cell_type": "code",
   "execution_count": null,
   "id": "c490a8ef-65a6-4cab-b933-59506cd39f9e",
   "metadata": {},
   "outputs": [],
   "source": []
  },
  {
   "cell_type": "markdown",
   "id": "746c45c3-53d2-4fd5-a04c-8e386d4f9140",
   "metadata": {},
   "source": [
    "Q8 .Reverce a while loop to display numbers 10 to 1 ?"
   ]
  }
 ],
 "metadata": {
  "kernelspec": {
   "display_name": "Python 3 (ipykernel)",
   "language": "python",
   "name": "python3"
  },
  "language_info": {
   "codemirror_mode": {
    "name": "ipython",
    "version": 3
   },
   "file_extension": ".py",
   "mimetype": "text/x-python",
   "name": "python",
   "nbconvert_exporter": "python",
   "pygments_lexer": "ipython3",
   "version": "3.10.8"
  }
 },
 "nbformat": 4,
 "nbformat_minor": 5
}
